{
 "cells": [
  {
   "cell_type": "markdown",
   "id": "4ce1d89f-c97e-4f2d-8070-666d2400137b",
   "metadata": {},
   "source": [
    "# Chapter02 - Reranking"
   ]
  },
  {
   "cell_type": "markdown",
   "id": "c55a2217-ee25-4582-aeea-26d45a404b4f",
   "metadata": {},
   "source": [
    "## Installation"
   ]
  },
  {
   "cell_type": "code",
   "execution_count": 1,
   "id": "ccdb7ac5-2eb3-4903-a96d-ce2f1ae79381",
   "metadata": {},
   "outputs": [],
   "source": [
    "!pip install -q -r requirements.txt"
   ]
  },
  {
   "cell_type": "markdown",
   "id": "1b3d0ca5-32c2-4d29-8667-eb99caee41e4",
   "metadata": {},
   "source": [
    "# Imports"
   ]
  },
  {
   "cell_type": "code",
   "execution_count": 5,
   "id": "2ea19437-78d4-4cb4-9b1f-f79c526c8c1c",
   "metadata": {},
   "outputs": [],
   "source": [
    "import cohere\n",
    "import numpy as np\n",
    "import re\n",
    "import pandas as pd\n",
    "from tqdm import tqdm\n",
    "from sklearn.metrics.pairwise import cosine_similarity\n",
    "from annoy import AnnoyIndex"
   ]
  },
  {
   "cell_type": "markdown",
   "id": "30874c5c-b9bf-4cde-8395-571f069e5944",
   "metadata": {},
   "source": [
    "# Cohere API key\n",
    "Create an `.env` file and add the Cohere API key to the following key `COHERE_API_KEY`"
   ]
  },
  {
   "cell_type": "code",
   "execution_count": 3,
   "id": "a633df51-0278-4927-8c02-04c9f861e432",
   "metadata": {},
   "outputs": [],
   "source": [
    "import os\n",
    "from dotenv import load_dotenv\n",
    "# Load env variables\n",
    "load_dotenv(\".env\")\n",
    "\n",
    "# Get the API key\n",
    "COHERE_API_KEY = os.getenv(\"COHERE_API_KEY\")\n",
    "\n",
    "MODEL_NAME = os.getenv(\"MODEL_NAME\") or \"rerank-english-02\""
   ]
  },
  {
   "cell_type": "code",
   "execution_count": 6,
   "id": "1d96a972-1c41-438c-abc7-9a620abbaf8d",
   "metadata": {},
   "outputs": [
    {
     "data": {
      "text/plain": [
       "array(['Interstellar is a 2014 epic science fiction film co-written, directed, and produced by Christopher Nolan',\n",
       "       'It stars Matthew McConaughey, Anne Hathaway, Jessica Chastain, Bill Irwin, Ellen Burstyn, Matt Damon, and Michael Caine'],\n",
       "      dtype='<U192')"
      ]
     },
     "execution_count": 6,
     "metadata": {},
     "output_type": "execute_result"
    }
   ],
   "source": [
    "# load texts\n",
    "texts = np.load(\"texts.npy\")\n",
    "texts[:2]"
   ]
  },
  {
   "cell_type": "markdown",
   "id": "d4c82e00-b816-40cb-a821-3f9a89d06d95",
   "metadata": {},
   "source": [
    "## Create cohere connection"
   ]
  },
  {
   "cell_type": "code",
   "execution_count": 7,
   "id": "ef9e8cf6-b3c7-493e-aaf6-8518e9dc8062",
   "metadata": {},
   "outputs": [],
   "source": [
    "cohere_client = cohere.Client(COHERE_API_KEY)"
   ]
  },
  {
   "cell_type": "markdown",
   "id": "1cd7371c-8119-43db-8062-44bade7cbdac",
   "metadata": {},
   "source": [
    "### Using cohere for reranking"
   ]
  },
  {
   "cell_type": "code",
   "execution_count": 10,
   "id": "f0816ab5-b5cc-4936-8f41-75dfc24eaef3",
   "metadata": {},
   "outputs": [],
   "source": [
    "query = \"film gross\"\n",
    "results = cohere_client.rerank(query=query, model=MODEL_NAME, documents=texts, top_n=3)"
   ]
  },
  {
   "cell_type": "code",
   "execution_count": 12,
   "id": "f0ba5512-011e-4e69-862b-4caed080c276",
   "metadata": {},
   "outputs": [
    {
     "name": "stdout",
     "output_type": "stream",
     "text": [
      "Document Rank: 1, Document Index: 10\n",
      "Document: The film had a worldwide gross over $677 million (and $773 million with subsequent re-releases), making it the tenth-highest grossing film of 2014\n",
      "Relevance Score: 0.92\n",
      "\n",
      "\n",
      "Document Rank: 2, Document Index: 12\n",
      "Document: It has also received praise from many astronomers for its scientific accuracy and portrayal of theoretical astrophysics\n",
      "Relevance Score: 0.11\n",
      "\n",
      "\n",
      "Document Rank: 3, Document Index: 2\n",
      "Document: Set in a dystopian future where humanity is struggling to survive, the film follows a group of astronauts who travel through a wormhole near Saturn in search of a new home for mankind\n",
      "Relevance Score: 0.03\n",
      "\n",
      "\n"
     ]
    }
   ],
   "source": [
    "results = cohere_client.rerank(query=query, model=MODEL_NAME, documents=texts, top_n=3) # Change top_n to change the number of results returned. If top_n is not passed, all results will be returned.\n",
    "for index, result in enumerate(results):\n",
    "  print(f\"Document Rank: {index + 1}, Document Index: {result.index}\")\n",
    "  print(f\"Document: {result.document['text']}\")\n",
    "  print(f\"Relevance Score: {result.relevance_score:.2f}\")\n",
    "  print(\"\\n\")"
   ]
  },
  {
   "cell_type": "markdown",
   "id": "b4b7c0e2-720d-4629-9a24-1fab25b078f6",
   "metadata": {},
   "source": [
    "As it's evident, passing thousands of documents to cohere is not feasible, therefore, we should have another mechanism to filter the indices before reranking which is called first stage of search! \n",
    "\n",
    "A very popular method is to classify texts based on being relevant to the topic:\n",
    "1. Multi-Stage Document Ranking with BERT: https://arxiv.org/abs/1910.14424\n",
    "2. Pretrained Transformers for Text Ranking: BERT and Beyond: https://arxiv.org/abs/2010.06467"
   ]
  },
  {
   "cell_type": "markdown",
   "id": "f40f7797-475d-4c80-a63d-0f7bdd21163b",
   "metadata": {},
   "source": [
    "*_:)_*"
   ]
  }
 ],
 "metadata": {
  "kernelspec": {
   "display_name": "Python 3 (ipykernel)",
   "language": "python",
   "name": "python3"
  },
  "language_info": {
   "codemirror_mode": {
    "name": "ipython",
    "version": 3
   },
   "file_extension": ".py",
   "mimetype": "text/x-python",
   "name": "python",
   "nbconvert_exporter": "python",
   "pygments_lexer": "ipython3",
   "version": "3.11.5"
  }
 },
 "nbformat": 4,
 "nbformat_minor": 5
}
