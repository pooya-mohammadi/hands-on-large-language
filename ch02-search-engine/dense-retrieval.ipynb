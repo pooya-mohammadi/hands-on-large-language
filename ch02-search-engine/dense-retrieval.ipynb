{
 "cells": [
  {
   "cell_type": "markdown",
   "id": "aa4d565c-2e31-4e2d-b71f-4052e0ddae4d",
   "metadata": {},
   "source": [
    "# Dense Retrieval"
   ]
  },
  {
   "cell_type": "markdown",
   "id": "81c4f1f4-5faf-463a-80a1-b913c2a8bee9",
   "metadata": {},
   "source": [
    "## Install Requirements"
   ]
  },
  {
   "cell_type": "code",
   "execution_count": 2,
   "id": "3d241d45-6519-44af-91b3-85b8c49691b1",
   "metadata": {},
   "outputs": [
    {
     "name": "stdout",
     "output_type": "stream",
     "text": [
      "Looking in indexes: https://pypi.org/simple, https://pypi.ngc.nvidia.com\n",
      "Collecting cohere (from -r requirements.txt (line 1))\n",
      "  Obtaining dependency information for cohere from https://files.pythonhosted.org/packages/db/35/6e4927c7aeb9ea426312cacf619cbd94fa9ac3cb1002cc6b6cd066180ce2/cohere-4.27-py3-none-any.whl.metadata\n",
      "  Downloading cohere-4.27-py3-none-any.whl.metadata (5.3 kB)\n",
      "Requirement already satisfied: tqdm in /home/ai/miniconda3/envs/torch_gpu/lib/python3.11/site-packages (from -r requirements.txt (line 2)) (4.66.1)\n",
      "Collecting Annoy (from -r requirements.txt (line 3))\n",
      "  Downloading annoy-1.17.3.tar.gz (647 kB)\n",
      "\u001b[2K     \u001b[90m━━━━━━━━━━━━━━━━━━━━━━━━━━━━━━━━━━━━━\u001b[0m \u001b[32m647.5/647.5 kB\u001b[0m \u001b[31m407.5 kB/s\u001b[0m eta \u001b[36m0:00:00\u001b[0ma \u001b[36m0:00:01\u001b[0m\n",
      "\u001b[?25h  Preparing metadata (setup.py) ... \u001b[?25ldone\n",
      "\u001b[?25hRequirement already satisfied: python-dotenv in /home/ai/miniconda3/envs/torch_gpu/lib/python3.11/site-packages (from -r requirements.txt (line 4)) (1.0.0)\n",
      "Requirement already satisfied: aiohttp<4.0,>=3.0 in /home/ai/miniconda3/envs/torch_gpu/lib/python3.11/site-packages (from cohere->-r requirements.txt (line 1)) (3.8.5)\n",
      "Collecting backoff<3.0,>=2.0 (from cohere->-r requirements.txt (line 1))\n",
      "  Downloading backoff-2.2.1-py3-none-any.whl (15 kB)\n",
      "Collecting fastavro==1.8.2 (from cohere->-r requirements.txt (line 1))\n",
      "  Obtaining dependency information for fastavro==1.8.2 from https://files.pythonhosted.org/packages/5b/74/da6fd6b4a818b9ffa4912988c47e432716ab03a4b5015524aabf5a9aa519/fastavro-1.8.2-cp311-cp311-manylinux_2_17_x86_64.manylinux2014_x86_64.whl.metadata\n",
      "  Downloading fastavro-1.8.2-cp311-cp311-manylinux_2_17_x86_64.manylinux2014_x86_64.whl.metadata (5.5 kB)\n",
      "Requirement already satisfied: importlib_metadata<7.0,>=6.0 in /home/ai/miniconda3/envs/torch_gpu/lib/python3.11/site-packages (from cohere->-r requirements.txt (line 1)) (6.8.0)\n",
      "Requirement already satisfied: requests<3.0.0,>=2.25.0 in /home/ai/miniconda3/envs/torch_gpu/lib/python3.11/site-packages (from cohere->-r requirements.txt (line 1)) (2.31.0)\n",
      "Requirement already satisfied: urllib3<3,>=1.26 in /home/ai/miniconda3/envs/torch_gpu/lib/python3.11/site-packages (from cohere->-r requirements.txt (line 1)) (1.26.17)\n",
      "Requirement already satisfied: attrs>=17.3.0 in /home/ai/miniconda3/envs/torch_gpu/lib/python3.11/site-packages (from aiohttp<4.0,>=3.0->cohere->-r requirements.txt (line 1)) (23.1.0)\n",
      "Requirement already satisfied: charset-normalizer<4.0,>=2.0 in /home/ai/miniconda3/envs/torch_gpu/lib/python3.11/site-packages (from aiohttp<4.0,>=3.0->cohere->-r requirements.txt (line 1)) (3.3.0)\n",
      "Requirement already satisfied: multidict<7.0,>=4.5 in /home/ai/miniconda3/envs/torch_gpu/lib/python3.11/site-packages (from aiohttp<4.0,>=3.0->cohere->-r requirements.txt (line 1)) (6.0.4)\n",
      "Requirement already satisfied: async-timeout<5.0,>=4.0.0a3 in /home/ai/miniconda3/envs/torch_gpu/lib/python3.11/site-packages (from aiohttp<4.0,>=3.0->cohere->-r requirements.txt (line 1)) (4.0.3)\n",
      "Requirement already satisfied: yarl<2.0,>=1.0 in /home/ai/miniconda3/envs/torch_gpu/lib/python3.11/site-packages (from aiohttp<4.0,>=3.0->cohere->-r requirements.txt (line 1)) (1.9.2)\n",
      "Requirement already satisfied: frozenlist>=1.1.1 in /home/ai/miniconda3/envs/torch_gpu/lib/python3.11/site-packages (from aiohttp<4.0,>=3.0->cohere->-r requirements.txt (line 1)) (1.4.0)\n",
      "Requirement already satisfied: aiosignal>=1.1.2 in /home/ai/miniconda3/envs/torch_gpu/lib/python3.11/site-packages (from aiohttp<4.0,>=3.0->cohere->-r requirements.txt (line 1)) (1.3.1)\n",
      "Requirement already satisfied: zipp>=0.5 in /home/ai/miniconda3/envs/torch_gpu/lib/python3.11/site-packages (from importlib_metadata<7.0,>=6.0->cohere->-r requirements.txt (line 1)) (3.17.0)\n",
      "Requirement already satisfied: idna<4,>=2.5 in /home/ai/miniconda3/envs/torch_gpu/lib/python3.11/site-packages (from requests<3.0.0,>=2.25.0->cohere->-r requirements.txt (line 1)) (3.4)\n",
      "Requirement already satisfied: certifi>=2017.4.17 in /home/ai/miniconda3/envs/torch_gpu/lib/python3.11/site-packages (from requests<3.0.0,>=2.25.0->cohere->-r requirements.txt (line 1)) (2023.7.22)\n",
      "Downloading cohere-4.27-py3-none-any.whl (47 kB)\n",
      "\u001b[2K   \u001b[90m━━━━━━━━━━━━━━━━━━━━━━━━━━━━━━━━━━━━━━━━\u001b[0m \u001b[32m47.6/47.6 kB\u001b[0m \u001b[31m715.4 kB/s\u001b[0m eta \u001b[36m0:00:00\u001b[0ma \u001b[36m0:00:01\u001b[0m\n",
      "\u001b[?25hDownloading fastavro-1.8.2-cp311-cp311-manylinux_2_17_x86_64.manylinux2014_x86_64.whl (2.9 MB)\n",
      "\u001b[2K   \u001b[90m━━━━━━━━━━━━━━━━━━━━━━━━━━━━━━━━━━━━━━━━\u001b[0m \u001b[32m2.9/2.9 MB\u001b[0m \u001b[31m597.5 kB/s\u001b[0m eta \u001b[36m0:00:00\u001b[0m00:01\u001b[0m00:01\u001b[0m\n",
      "\u001b[?25hBuilding wheels for collected packages: Annoy\n",
      "  Building wheel for Annoy (setup.py) ... \u001b[?25ldone\n",
      "\u001b[?25h  Created wheel for Annoy: filename=annoy-1.17.3-cp311-cp311-linux_x86_64.whl size=77683 sha256=bc4fdca9e359aa53c04cea758b0cea396b7e46665c9ff35d75029700fadeb12b\n",
      "  Stored in directory: /tmp/pip-ephem-wheel-cache-i4snih2b/wheels/33/e5/58/0a3e34b92bedf09b4c57e37a63ff395ade6f6c1099ba59877c\n",
      "Successfully built Annoy\n",
      "Installing collected packages: Annoy, fastavro, backoff, cohere\n",
      "Successfully installed Annoy-1.17.3 backoff-2.2.1 cohere-4.27 fastavro-1.8.2\n"
     ]
    }
   ],
   "source": [
    "!pip install -rq requirements.txt"
   ]
  },
  {
   "cell_type": "markdown",
   "id": "3f11684e-2452-4da7-bd36-00b558fed080",
   "metadata": {},
   "source": [
    "# Cohere API key\n",
    "Create an `.env` file and add the Cohere API key to the following key `COHERE_API_KEY`\n"
   ]
  },
  {
   "cell_type": "code",
   "execution_count": 3,
   "id": "2a7a9662-cb00-454b-80df-a39367af9d11",
   "metadata": {},
   "outputs": [
    {
     "ename": "NameError",
     "evalue": "name 'os' is not defined",
     "output_type": "error",
     "traceback": [
      "\u001b[0;31m---------------------------------------------------------------------------\u001b[0m",
      "\u001b[0;31mNameError\u001b[0m                                 Traceback (most recent call last)",
      "Cell \u001b[0;32mIn[3], line 3\u001b[0m\n\u001b[1;32m      1\u001b[0m \u001b[38;5;28;01mfrom\u001b[39;00m \u001b[38;5;21;01mdotenv\u001b[39;00m \u001b[38;5;28;01mimport\u001b[39;00m load_dotenv\n\u001b[1;32m      2\u001b[0m load_dotenv(\u001b[38;5;124m\"\u001b[39m\u001b[38;5;124m.env\u001b[39m\u001b[38;5;124m\"\u001b[39m)\n\u001b[0;32m----> 3\u001b[0m COHERE_API_KEY \u001b[38;5;241m=\u001b[39m \u001b[43mos\u001b[49m\u001b[38;5;241m.\u001b[39mget(\u001b[38;5;124m\"\u001b[39m\u001b[38;5;124mCOHERE_API_KEY\u001b[39m\u001b[38;5;124m\"\u001b[39m)\n",
      "\u001b[0;31mNameError\u001b[0m: name 'os' is not defined"
     ]
    }
   ],
   "source": [
    "import os\n",
    "from dotenv import load_dotenv\n",
    "#\n",
    "load_dotenv(\".env\")\n",
    "COHERE_API_KEY = os.get(\"COHERE_API_KEY\")"
   ]
  },
  {
   "cell_type": "code",
   "execution_count": null,
   "id": "f5f8ff45-9f1d-4617-a8fc-b5614230aacd",
   "metadata": {},
   "outputs": [],
   "source": []
  }
 ],
 "metadata": {
  "kernelspec": {
   "display_name": "Python 3 (ipykernel)",
   "language": "python",
   "name": "python3"
  },
  "language_info": {
   "codemirror_mode": {
    "name": "ipython",
    "version": 3
   },
   "file_extension": ".py",
   "mimetype": "text/x-python",
   "name": "python",
   "nbconvert_exporter": "python",
   "pygments_lexer": "ipython3",
   "version": "3.11.5"
  }
 },
 "nbformat": 4,
 "nbformat_minor": 5
}
