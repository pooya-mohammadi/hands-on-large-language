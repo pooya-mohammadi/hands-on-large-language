{
 "cells": [
  {
   "cell_type": "markdown",
   "id": "aa4d565c-2e31-4e2d-b71f-4052e0ddae4d",
   "metadata": {},
   "source": [
    "# Dense Retrieval"
   ]
  },
  {
   "cell_type": "markdown",
   "id": "81c4f1f4-5faf-463a-80a1-b913c2a8bee9",
   "metadata": {},
   "source": [
    "## Install Requirements"
   ]
  },
  {
   "cell_type": "code",
   "execution_count": 12,
   "id": "3d241d45-6519-44af-91b3-85b8c49691b1",
   "metadata": {},
   "outputs": [],
   "source": [
    "!pip install -q -r requirements.txt # remove -q to see the logs"
   ]
  },
  {
   "cell_type": "markdown",
   "id": "3f11684e-2452-4da7-bd36-00b558fed080",
   "metadata": {},
   "source": [
    "# Cohere API key\n",
    "Create an `.env` file and add the Cohere API key to the following key `COHERE_API_KEY`"
   ]
  },
  {
   "cell_type": "code",
   "execution_count": 13,
   "id": "2a7a9662-cb00-454b-80df-a39367af9d11",
   "metadata": {},
   "outputs": [],
   "source": [
    "import os\n",
    "from dotenv import load_dotenv\n",
    "# Load env variables\n",
    "load_dotenv(\".env\")\n",
    "\n",
    "# Get the API key\n",
    "COHERE_API_KEY = os.getenv(\"COHERE_API_KEY\")"
   ]
  },
  {
   "cell_type": "markdown",
   "id": "5ae517a3-e32f-4b66-9472-4cb478cd0b3e",
   "metadata": {},
   "source": [
    "# Imports"
   ]
  },
  {
   "cell_type": "code",
   "execution_count": 1,
   "id": "e4c21d6e-c93b-4f47-9c2a-83f3b75a2092",
   "metadata": {},
   "outputs": [],
   "source": [
    "import cohere\n",
    "import numpy as np\n",
    "import re\n",
    "import pandas as pd\n",
    "from tqdm import tqdm\n",
    "from sklearn.metrics.pairwise import cosine_similarity\n",
    "from annoy import AnnoyIndex"
   ]
  },
  {
   "cell_type": "markdown",
   "id": "c86fed79-2ab6-4d50-a6e8-066f815cf5d0",
   "metadata": {},
   "source": [
    "# Interstellar"
   ]
  },
  {
   "cell_type": "code",
   "execution_count": 2,
   "id": "971cbfb4-852d-4135-bca0-087cda745729",
   "metadata": {},
   "outputs": [],
   "source": [
    "text = \"\"\"\n",
    "Interstellar is a 2014 epic science fiction film co-written, directed, and produced by Christopher Nolan. \n",
    "It stars Matthew McConaughey, Anne Hathaway, Jessica Chastain, Bill Irwin, Ellen Burstyn, Matt Damon, and Michael Caine. \n",
    "Set in a dystopian future where humanity is struggling to survive, the film follows a group of astronauts who travel through a wormhole near Saturn in search of a new home for mankind.\n",
    " \n",
    "Brothers Christopher and Jonathan Nolan wrote the screenplay, which had its origins in a script Jonathan developed in 2007. \n",
    "Caltech theoretical physicist and 2017 Nobel laureate in Physics[4] Kip Thorne was an executive producer, acted as a scientific consultant, and wrote a tie-in book, The Science of Interstellar. \n",
    "Cinematographer Hoyte van Hoytema shot it on 35 mm movie film in the Panavision anamorphic format and IMAX 70 mm. \n",
    "Principal photography began in late 2013 and took place in Alberta, Iceland, and Los Angeles. \n",
    "Interstellar uses extensive practical and miniature effects and the company Double Negative created additional digital effects.\n",
    " \n",
    "Interstellar premiered on October 26, 2014, in Los Angeles. \n",
    "In the United States, it was first released on film stock, expanding to venues using digital projectors. \n",
    "The film had a worldwide gross over $677 million (and $773 million with subsequent re-releases), making it the tenth-highest grossing film of 2014. \n",
    "It received acclaim for its performances, direction, screenplay, musical score, visual effects, ambition, themes, and emotional weight. \n",
    "It has also received praise from many astronomers for its scientific accuracy and portrayal of theoretical astrophysics. Since its premiere, Interstellar gained a cult following,[5] and now is regarded by many sci-fi experts as one of the best science-fiction films of all time.\n",
    "Interstellar was nominated for five awards at the 87th Academy Awards, winning Best Visual Effects, and received numerous other accolades\"\"\""
   ]
  },
  {
   "cell_type": "code",
   "execution_count": 3,
   "id": "6b2fc4e5-cb5c-4446-b7f0-f54e708b3b3c",
   "metadata": {},
   "outputs": [],
   "source": [
    "# split text\n",
    "split_mark = \".\"\n",
    "splitted_text = text.split(split_mark)"
   ]
  },
  {
   "cell_type": "code",
   "execution_count": 4,
   "id": "5f11eba7-fd7a-434b-a434-10a5d0457eb1",
   "metadata": {},
   "outputs": [
    {
     "data": {
      "text/plain": [
       "['Interstellar is a 2014 epic science fiction film co-written, directed, and produced by Christopher Nolan',\n",
       " 'It stars Matthew McConaughey, Anne Hathaway, Jessica Chastain, Bill Irwin, Ellen Burstyn, Matt Damon, and Michael Caine']"
      ]
     },
     "execution_count": 4,
     "metadata": {},
     "output_type": "execute_result"
    }
   ],
   "source": [
    "# Remove empty space and clean\n",
    "cleaned_texts = [t.strip() for t in splitted_text]\n",
    "cleaned_texts[:2]"
   ]
  },
  {
   "cell_type": "code",
   "execution_count": 5,
   "id": "3be3c75f-40be-4b40-b42d-07d2d4ed48c3",
   "metadata": {},
   "outputs": [],
   "source": [
    "texts = np.array(cleaned_texts)"
   ]
  },
  {
   "cell_type": "code",
   "execution_count": 6,
   "id": "1605e793-bc94-49b1-84d0-11d7b47ba241",
   "metadata": {},
   "outputs": [],
   "source": [
    "# save texts\n",
    "np.save(\"texts.npy\", texts)"
   ]
  },
  {
   "cell_type": "markdown",
   "id": "774996e1-bade-465b-8731-5f4949baab23",
   "metadata": {},
   "source": [
    "## Create cohere connection"
   ]
  },
  {
   "cell_type": "code",
   "execution_count": 22,
   "id": "7b25630c-194f-45c8-99dc-95b150fd3bda",
   "metadata": {},
   "outputs": [],
   "source": [
    "cohere_client = cohere.Client(COHERE_API_KEY)"
   ]
  },
  {
   "cell_type": "code",
   "execution_count": 23,
   "id": "df85ceb4-c1e9-494d-abcd-cf05bcaba55b",
   "metadata": {},
   "outputs": [
    {
     "name": "stdout",
     "output_type": "stream",
     "text": [
      "(15, 4096)\n"
     ]
    }
   ],
   "source": [
    "# Get embeddings\n",
    "response = cohere_client.embed(texts=cleaned_texts).embeddings\n",
    " \n",
    "embeds = np.array(response)\n",
    "print(embeds.shape)"
   ]
  },
  {
   "cell_type": "markdown",
   "id": "6612cdf0-6bbf-4e8e-816d-54c5164d2284",
   "metadata": {},
   "source": [
    "# Save the embeddings(Optional)"
   ]
  },
  {
   "cell_type": "code",
   "execution_count": 24,
   "id": "c81daa64-ea61-4321-aaea-c067c89edd51",
   "metadata": {},
   "outputs": [],
   "source": [
    "np.save(\"interstellar_embeds.npy\", embeds)"
   ]
  },
  {
   "cell_type": "markdown",
   "id": "f4b2c54e-638c-4d5d-a46e-ae83336336d0",
   "metadata": {},
   "source": [
    "# Build the search Index"
   ]
  },
  {
   "cell_type": "code",
   "execution_count": null,
   "id": "94769afc-d73a-4978-b685-cb6eb85e822d",
   "metadata": {},
   "outputs": [],
   "source": [
    "# Load embeds (Optional)\n",
    "embeds = np.load(\"interstellar_embeds.npy\")"
   ]
  },
  {
   "cell_type": "code",
   "execution_count": 25,
   "id": "6a7ec668-7517-4ffa-b0c8-4e30cc3d3c8c",
   "metadata": {},
   "outputs": [
    {
     "name": "stdout",
     "output_type": "stream",
     "text": [
      "(15, 4096)\n"
     ]
    }
   ],
   "source": [
    "print(embeds.shape) # make sure the loading is correct"
   ]
  },
  {
   "cell_type": "code",
   "execution_count": 26,
   "id": "755c40bc-1e88-4517-aeb6-89aae56dcd52",
   "metadata": {},
   "outputs": [],
   "source": [
    "# Create the search index, pass the size of embedding and search metric\n",
    "search_index = AnnoyIndex(embeds.shape[1], 'angular')"
   ]
  },
  {
   "cell_type": "code",
   "execution_count": 28,
   "id": "4fc2e926-8224-4910-af7b-6b7ec9ecf7bb",
   "metadata": {},
   "outputs": [
    {
     "name": "stdout",
     "output_type": "stream",
     "text": [
      "[INFO] Add the embeddings are added to search index\n"
     ]
    }
   ],
   "source": [
    "# Add all the vectors to the search index\n",
    "for index, embed in enumerate(embeds):\n",
    "    search_index.add_item(index, embed)\n",
    "print(\"[INFO] Add the embeddings are added to search index\")"
   ]
  },
  {
   "cell_type": "code",
   "execution_count": 29,
   "id": "940dcbd7-055a-441d-ac34-19cba824d8ce",
   "metadata": {},
   "outputs": [
    {
     "data": {
      "text/plain": [
       "True"
      ]
     },
     "execution_count": 29,
     "metadata": {},
     "output_type": "execute_result"
    }
   ],
   "source": [
    "# After building no more items can be added\n",
    "search_index.build(n_trees=10, n_jobs=4) "
   ]
  },
  {
   "cell_type": "code",
   "execution_count": 30,
   "id": "beadba68-9470-415b-8296-d756bab0381b",
   "metadata": {},
   "outputs": [
    {
     "data": {
      "text/plain": [
       "True"
      ]
     },
     "execution_count": 30,
     "metadata": {},
     "output_type": "execute_result"
    }
   ],
   "source": [
    "# Save the search_index\n",
    "search_index.save('interstellar_search_index.ann')"
   ]
  },
  {
   "cell_type": "code",
   "execution_count": 50,
   "id": "c27d7755-0949-4ee3-ba93-1aabae86fe24",
   "metadata": {},
   "outputs": [],
   "source": [
    "def search(query: str, n_neighbors: int = 3, include_distances: bool = True) -> pd.DataFrame:\n",
    "  \n",
    "  # 1. Get the query's embedding\n",
    "  query_embed = cohere_client.embed(texts=[query]).embeddings[0]\n",
    " \n",
    "  # 2. Retrieve the nearest neighbors\n",
    "  similar_item_ids, distances = search_index.get_nns_by_vector(query_embed,\n",
    "                                                    n=n_neighbors,\n",
    "                                                    include_distances=include_distances)\n",
    "    \n",
    "  # 3. Format the results to pandas\n",
    "  results = pd.DataFrame(data={'texts': texts[similar_item_ids], \n",
    "                              'distance': distances})\n",
    "  \n",
    "  return results"
   ]
  },
  {
   "cell_type": "markdown",
   "id": "1e2ef217-4d68-4e0f-afbd-623322f10f82",
   "metadata": {},
   "source": [
    "# Do some searches"
   ]
  },
  {
   "cell_type": "code",
   "execution_count": 51,
   "id": "f7f43737-2082-4584-af51-956730a8e97b",
   "metadata": {},
   "outputs": [
    {
     "data": {
      "text/html": [
       "<div>\n",
       "<style scoped>\n",
       "    .dataframe tbody tr th:only-of-type {\n",
       "        vertical-align: middle;\n",
       "    }\n",
       "\n",
       "    .dataframe tbody tr th {\n",
       "        vertical-align: top;\n",
       "    }\n",
       "\n",
       "    .dataframe thead th {\n",
       "        text-align: right;\n",
       "    }\n",
       "</style>\n",
       "<table border=\"1\" class=\"dataframe\">\n",
       "  <thead>\n",
       "    <tr style=\"text-align: right;\">\n",
       "      <th></th>\n",
       "      <th>texts</th>\n",
       "      <th>distance</th>\n",
       "    </tr>\n",
       "  </thead>\n",
       "  <tbody>\n",
       "    <tr>\n",
       "      <th>0</th>\n",
       "      <td>The film had a worldwide gross over $677 milli...</td>\n",
       "      <td>0.815881</td>\n",
       "    </tr>\n",
       "    <tr>\n",
       "      <th>1</th>\n",
       "      <td>It stars Matthew McConaughey, Anne Hathaway, J...</td>\n",
       "      <td>1.066906</td>\n",
       "    </tr>\n",
       "    <tr>\n",
       "      <th>2</th>\n",
       "      <td>In the United States, it was first released on...</td>\n",
       "      <td>1.086965</td>\n",
       "    </tr>\n",
       "  </tbody>\n",
       "</table>\n",
       "</div>"
      ],
      "text/plain": [
       "                                               texts  distance\n",
       "0  The film had a worldwide gross over $677 milli...  0.815881\n",
       "1  It stars Matthew McConaughey, Anne Hathaway, J...  1.066906\n",
       "2  In the United States, it was first released on...  1.086965"
      ]
     },
     "execution_count": 51,
     "metadata": {},
     "output_type": "execute_result"
    }
   ],
   "source": [
    "query = \"How much did the film make?\"\n",
    "search(query)"
   ]
  },
  {
   "cell_type": "code",
   "execution_count": 48,
   "id": "5eecdff2-9d1c-496b-a94f-ed0283116bdf",
   "metadata": {},
   "outputs": [
    {
     "data": {
      "text/html": [
       "<div>\n",
       "<style scoped>\n",
       "    .dataframe tbody tr th:only-of-type {\n",
       "        vertical-align: middle;\n",
       "    }\n",
       "\n",
       "    .dataframe tbody tr th {\n",
       "        vertical-align: top;\n",
       "    }\n",
       "\n",
       "    .dataframe thead th {\n",
       "        text-align: right;\n",
       "    }\n",
       "</style>\n",
       "<table border=\"1\" class=\"dataframe\">\n",
       "  <thead>\n",
       "    <tr style=\"text-align: right;\">\n",
       "      <th></th>\n",
       "      <th>texts</th>\n",
       "      <th>distance</th>\n",
       "    </tr>\n",
       "  </thead>\n",
       "  <tbody>\n",
       "    <tr>\n",
       "      <th>0</th>\n",
       "      <td>In the United States, it was first released on...</td>\n",
       "      <td>0.874286</td>\n",
       "    </tr>\n",
       "  </tbody>\n",
       "</table>\n",
       "</div>"
      ],
      "text/plain": [
       "                                               texts  distance\n",
       "0  In the United States, it was first released on...  0.874286"
      ]
     },
     "execution_count": 48,
     "metadata": {},
     "output_type": "execute_result"
    }
   ],
   "source": [
    "query = \"How was the movie released\"\n",
    "search(query, n_neighbors=1)"
   ]
  },
  {
   "cell_type": "markdown",
   "id": "72646974-527f-41c0-86e1-dd4d5eae4685",
   "metadata": {},
   "source": [
    "# Caveats"
   ]
  },
  {
   "cell_type": "code",
   "execution_count": 49,
   "id": "fad79457-1888-4fdf-9233-17efea292a1a",
   "metadata": {},
   "outputs": [
    {
     "data": {
      "text/html": [
       "<div>\n",
       "<style scoped>\n",
       "    .dataframe tbody tr th:only-of-type {\n",
       "        vertical-align: middle;\n",
       "    }\n",
       "\n",
       "    .dataframe tbody tr th {\n",
       "        vertical-align: top;\n",
       "    }\n",
       "\n",
       "    .dataframe thead th {\n",
       "        text-align: right;\n",
       "    }\n",
       "</style>\n",
       "<table border=\"1\" class=\"dataframe\">\n",
       "  <thead>\n",
       "    <tr style=\"text-align: right;\">\n",
       "      <th></th>\n",
       "      <th>texts</th>\n",
       "      <th>distance</th>\n",
       "    </tr>\n",
       "  </thead>\n",
       "  <tbody>\n",
       "    <tr>\n",
       "      <th>0</th>\n",
       "      <td>Caltech theoretical physicist and 2017 Nobel l...</td>\n",
       "      <td>1.276832</td>\n",
       "    </tr>\n",
       "  </tbody>\n",
       "</table>\n",
       "</div>"
      ],
      "text/plain": [
       "                                               texts  distance\n",
       "0  Caltech theoretical physicist and 2017 Nobel l...  1.276832"
      ]
     },
     "execution_count": 49,
     "metadata": {},
     "output_type": "execute_result"
    }
   ],
   "source": [
    "query = \"Who is Pooya Mohammadi?\"\n",
    "search(query, n_neighbors=1)"
   ]
  },
  {
   "cell_type": "markdown",
   "id": "2677a63f-eba0-45e4-a0dd-f8066a321f26",
   "metadata": {},
   "source": [
    "As you can see if the answer is not in the embedded text, we would still have output which is not correct, therefore, we can add a threshold to search engine."
   ]
  },
  {
   "cell_type": "code",
   "execution_count": 58,
   "id": "23cf9418-fa51-4400-bb06-72a68079e1f2",
   "metadata": {},
   "outputs": [],
   "source": [
    "def search(query: str, n_neighbors: int = 3, include_distances: bool = True,\n",
    "           t_distance: float = 1.0) -> pd.DataFrame:\n",
    "  \n",
    "  # 1. Get the query's embedding\n",
    "  query_embed = cohere_client.embed(texts=[query]).embeddings[0]\n",
    " \n",
    "  # 2. Retrieve the nearest neighbors\n",
    "  similar_item_ids, distances = search_index.get_nns_by_vector(query_embed,\n",
    "                                                    n=n_neighbors,\n",
    "                                                    include_distances=include_distances)\n",
    "  filtered_output = [(id_, distance) for id_, distance in zip(similar_item_ids, distances) if distance < t_distance]\n",
    "  if filtered_output:\n",
    "      similar_item_ids, distances = zip(*filtered_output)\n",
    "      results = pd.DataFrame(data={'texts': texts[similar_item_ids], \n",
    "                              'distance': distances})\n",
    "  else:\n",
    "      print(f\"[INFO] No results found with t: {t_distance}, setting results to empty Dataframe\")\n",
    "      results = pd.DataFrame(data={\"texts\": [], \"distance\": []})\n",
    "  \n",
    "  return results"
   ]
  },
  {
   "cell_type": "code",
   "execution_count": 59,
   "id": "394730bc-fc69-4fb7-96dd-b18eeb9ad145",
   "metadata": {},
   "outputs": [
    {
     "data": {
      "text/html": [
       "<div>\n",
       "<style scoped>\n",
       "    .dataframe tbody tr th:only-of-type {\n",
       "        vertical-align: middle;\n",
       "    }\n",
       "\n",
       "    .dataframe tbody tr th {\n",
       "        vertical-align: top;\n",
       "    }\n",
       "\n",
       "    .dataframe thead th {\n",
       "        text-align: right;\n",
       "    }\n",
       "</style>\n",
       "<table border=\"1\" class=\"dataframe\">\n",
       "  <thead>\n",
       "    <tr style=\"text-align: right;\">\n",
       "      <th></th>\n",
       "      <th>texts</th>\n",
       "      <th>distance</th>\n",
       "    </tr>\n",
       "  </thead>\n",
       "  <tbody>\n",
       "    <tr>\n",
       "      <th>0</th>\n",
       "      <td>In the United States, it was first released on...</td>\n",
       "      <td>0.874286</td>\n",
       "    </tr>\n",
       "  </tbody>\n",
       "</table>\n",
       "</div>"
      ],
      "text/plain": [
       "                                               texts  distance\n",
       "0  In the United States, it was first released on...  0.874286"
      ]
     },
     "execution_count": 59,
     "metadata": {},
     "output_type": "execute_result"
    }
   ],
   "source": [
    "query = \"How was the movie released\"\n",
    "search(query, n_neighbors=1)"
   ]
  },
  {
   "cell_type": "code",
   "execution_count": 60,
   "id": "acbcf2e1-3729-4b6f-a914-fe350c9d5b75",
   "metadata": {},
   "outputs": [
    {
     "name": "stdout",
     "output_type": "stream",
     "text": [
      "[INFO] No results found with t: 1.0, setting results to empty Dataframe\n"
     ]
    },
    {
     "data": {
      "text/html": [
       "<div>\n",
       "<style scoped>\n",
       "    .dataframe tbody tr th:only-of-type {\n",
       "        vertical-align: middle;\n",
       "    }\n",
       "\n",
       "    .dataframe tbody tr th {\n",
       "        vertical-align: top;\n",
       "    }\n",
       "\n",
       "    .dataframe thead th {\n",
       "        text-align: right;\n",
       "    }\n",
       "</style>\n",
       "<table border=\"1\" class=\"dataframe\">\n",
       "  <thead>\n",
       "    <tr style=\"text-align: right;\">\n",
       "      <th></th>\n",
       "      <th>texts</th>\n",
       "      <th>distance</th>\n",
       "    </tr>\n",
       "  </thead>\n",
       "  <tbody>\n",
       "  </tbody>\n",
       "</table>\n",
       "</div>"
      ],
      "text/plain": [
       "Empty DataFrame\n",
       "Columns: [texts, distance]\n",
       "Index: []"
      ]
     },
     "execution_count": 60,
     "metadata": {},
     "output_type": "execute_result"
    }
   ],
   "source": [
    "query = \"Who is Pooya Mohammadi?\"\n",
    "search(query, n_neighbors=1)"
   ]
  },
  {
   "cell_type": "markdown",
   "id": "588beee3-7b26-4ff0-b29d-68333abb8b1a",
   "metadata": {},
   "source": [
    "*_:)_*"
   ]
  }
 ],
 "metadata": {
  "kernelspec": {
   "display_name": "Python 3 (ipykernel)",
   "language": "python",
   "name": "python3"
  },
  "language_info": {
   "codemirror_mode": {
    "name": "ipython",
    "version": 3
   },
   "file_extension": ".py",
   "mimetype": "text/x-python",
   "name": "python",
   "nbconvert_exporter": "python",
   "pygments_lexer": "ipython3",
   "version": "3.11.5"
  }
 },
 "nbformat": 4,
 "nbformat_minor": 5
}
